{
 "cells": [
  {
   "cell_type": "code",
   "execution_count": 1,
   "metadata": {},
   "outputs": [],
   "source": [
    "import numpy as np\n",
    "import math\n",
    "import scipy.optimize as opt\n",
    "from numpy import exp\n",
    "from scipy.optimize import fsolve"
   ]
  },
  {
   "cell_type": "code",
   "execution_count": 2,
   "metadata": {},
   "outputs": [],
   "source": [
    "def at1(variable, b,h):\n",
    "    Gc_i_Reduced = variable\n",
    "\n",
    "    beta_2 = (-b*(Gc_b - Gc_i_Reduced) + (Gc_b**2*b**2 - Gc_i_Reduced**2*b**2 + 4*Gc_i_Reduced**2*l**2)**0.5)\\\n",
    "            /(2*Gc_i_Reduced*l**2)\n",
    "\n",
    "    beta_1 = Gc_b/Gc_i_Reduced*(beta_2 - b/(2*l**2))+b/(2*l**2)\n",
    "\n",
    "    tweak = 3*l/(4)      \n",
    "    \n",
    "    lhs = h/(2*l)+4./3. \n",
    "    rhs_I = h/(2.*l) \n",
    "    rhs_II = 1/(6.*l**3)*b**3 - beta_1/l*b**2 + (l*beta_1**2+1/l)*b \n",
    "    rhs_III = - 2./3.*(l*beta_2)**3 + 2*(l*beta_2) - 2*l*b*beta_2*(beta_1-beta_2)\\\n",
    "              - 1/(6*l**3)*b**3 + beta_2/l*b**2 - (l*beta_2**2+1/l - b/l*(beta_1-beta_2))*b\n",
    "        \n",
    "\n",
    "    Equation = Gc_i*lhs - Gc_i_Reduced*(rhs_I+rhs_II) - Gc_b*rhs_III\n",
    "\n",
    "    return Equation\n",
    "\n",
    "\n",
    "def at2(variable, b, h):\n",
    "#     b = b - x0\n",
    "    Gc_i_Reduced = variable\n",
    "    Bp = math.exp(b/l)\n",
    "    Bm = math.exp(-b/l)\n",
    "    \n",
    "    alpha1 = (Gc_i_Reduced + Gc_b)*Bp/( (Gc_i_Reduced+Gc_b)*Bp + (Gc_i_Reduced-Gc_b)*Bm )\n",
    "    alpha2 = 2*Gc_i_Reduced*Bp/( (Gc_i_Reduced+Gc_b)*Bp + (Gc_i_Reduced-Gc_b)*Bm )\n",
    "    \n",
    "    Bp2 = math.exp(2*b/l)\n",
    "    Bm2 = math.exp(-2*b/l)\n",
    "    \n",
    "    lhs = 1+ h/(2*l)\n",
    "    rhs_I = h/(2*l) \n",
    "    rhs_II = alpha1**2 * (1-Bm2) - (1-alpha1)**2*(1-Bp2)\n",
    "    rhs_III = alpha2**2*Bm2\n",
    "\n",
    "    Equation = Gc_i_Reduced*(rhs_I+rhs_II) + Gc_b*rhs_III- Gc_i*lhs\n",
    "\n",
    "    return Equation\n",
    "\n"
   ]
  },
  {
   "cell_type": "code",
   "execution_count": 4,
   "metadata": {},
   "outputs": [
    {
     "name": "stdout",
     "output_type": "stream",
     "text": [
      "Effective Gc for AT1= [0.13036617] for AT1= [0.1213604]\n"
     ]
    }
   ],
   "source": [
    "# Gc_b: Bulk Gc, Gc_i: Interface Gc\n",
    "Gc_b = 1.0\n",
    "Gc_i = 0.2\n",
    "\n",
    "# h: element size, l: pf diffused length, b: interface diffused length, x0: fracture location\n",
    "h = 0.01\n",
    "l = 2*h\n",
    "x0 = h/2\n",
    "b = 0.75*l - x0\n",
    "\n",
    "\n",
    "Gc_i_Reduced_at1 = opt.fsolve(at1, 0.5,args =(b,h) )\n",
    "Gc_i_Reduced_at2 = opt.fsolve(at2, 0.5,args =(b,h) )\n",
    "\n",
    "\n",
    "print('Effective Gc for AT1=',Gc_i_Reduced_at1,'for AT1=',Gc_i_Reduced_at2)"
   ]
  },
  {
   "cell_type": "code",
   "execution_count": null,
   "metadata": {},
   "outputs": [],
   "source": []
  }
 ],
 "metadata": {
  "kernelspec": {
   "display_name": "Python 3",
   "language": "python",
   "name": "python3"
  },
  "language_info": {
   "codemirror_mode": {
    "name": "ipython",
    "version": 3
   },
   "file_extension": ".py",
   "mimetype": "text/x-python",
   "name": "python",
   "nbconvert_exporter": "python",
   "pygments_lexer": "ipython3",
   "version": "3.9.6"
  }
 },
 "nbformat": 4,
 "nbformat_minor": 4
}
